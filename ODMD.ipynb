{
 "cells": [
  {
   "cell_type": "code",
   "execution_count": 39,
   "id": "eb4d856a-e34e-406b-8ab7-cfa3e75e8f42",
   "metadata": {},
   "outputs": [
    {
     "name": "stdout",
     "output_type": "stream",
     "text": [
      "[(35.74685857892048+0j), (1.8972909199074663+2.41552069849701j), (1.8972909199074663-2.41552069849701j), (1.498364322632206+0j)]\n",
      "E_0 = (-178.7342928946024+0j)\n",
      "none\n",
      "[(35.74685857892048+0j), (1.8972909199074663+2.41552069849701j), (1.8972909199074663-2.41552069849701j), (1.498364322632206+0j)]\n",
      "E_0 = (-178.7342928946024+0j)\n"
     ]
    },
    {
     "data": {
      "text/plain": [
       "(-178.7342928946024+0j)"
      ]
     },
     "execution_count": 39,
     "metadata": {},
     "output_type": "execute_result"
    }
   ],
   "source": [
    "import numpy as np\n",
    "import math\n",
    "import cmath\n",
    "\n",
    "def generate_s_k(k, Dt):\n",
    "    # use real hadmard test to generate data\n",
    "    return np.array([1,2,3,4,5,6,7])\n",
    "\n",
    "def make_X(first, last, k, d, s_k = []):\n",
    "    X = np.zeros((k, d))\n",
    "    for i in range(k):\n",
    "        for j in range(d):\n",
    "            X[i][j] = s_k[i+j-first]\n",
    "    return X\n",
    "\n",
    "def regression(X, noise_threshold):\n",
    "    # print(\"X\", X)\n",
    "    U, sigma, V = np.linalg.svd(X)\n",
    "    threshold = noise_threshold*max(sigma)\n",
    "    # print(\"U\", U)\n",
    "    # print(\"sigma\", sigma)\n",
    "    # print(\"V\", V)\n",
    "    for l in range(len(sigma)):\n",
    "        # print(\"iteration\")\n",
    "        if threshold <= sigma[l]:\n",
    "            sigma[l] = 0\n",
    "            U[:,l] = 0\n",
    "            V[l,:] = 0\n",
    "        # print(\"U\", U)\n",
    "        # print(\"sigma\", sigma)\n",
    "        # print(\"V\", V)\n",
    "    return U @ np.diag(sigma) @ V\n",
    "\n",
    "'''\n",
    "Dt: time step for each iteration (Dt should not be small)\n",
    "noise_threshold: used for linear regression\n",
    "err_threshold: how close the energy until iterations have been stopped\n",
    "K: number of time steps to take each\n",
    "alpha: used for calculating d  \n",
    "'''\n",
    "def ODMD(Dt, noise_threshold, err_threshold, K = 7, alpha = 1/2): \n",
    "    k = 0\n",
    "    d = math.floor(alpha*(K+1))\n",
    "    while (True):\n",
    "        s_k = generate_s_k(k, Dt)\n",
    "        X = make_X(0, K, d, d, s_k=s_k) \n",
    "        Xprime = make_X(1, K+1, d, d, s_k=s_k)\n",
    "        X_sigma = regression(X, noise_threshold)\n",
    "        A = Xprime @ np.linalg.pinv(X_sigma)\n",
    "        k = k+1\n",
    "        eigenvalues,_ = np.linalg.eig(A)\n",
    "        eigenlog = [cmath.log(i) for i in eigenvalues]\n",
    "        print(eigenlog)\n",
    "        E_0 = -max(eigenlog, key=abs)/Dt\n",
    "        print(\"E_0 =\", E_0)\n",
    "        try:\n",
    "            if abs(old_E_0 - E_0) < err_threshold:\n",
    "                break\n",
    "        except:\n",
    "            print(\"none\")\n",
    "        finally:\n",
    "            old_E_0 = E_0\n",
    "        \n",
    "    return E_0\n",
    "\n",
    "ODMD(.2, .0001, 0.001)"
   ]
  }
 ],
 "metadata": {
  "kernelspec": {
   "display_name": "ODMD-env",
   "language": "python",
   "name": "python3"
  },
  "language_info": {
   "codemirror_mode": {
    "name": "ipython",
    "version": 3
   },
   "file_extension": ".py",
   "mimetype": "text/x-python",
   "name": "python",
   "nbconvert_exporter": "python",
   "pygments_lexer": "ipython3",
   "version": "3.12.8"
  }
 },
 "nbformat": 4,
 "nbformat_minor": 5
}
